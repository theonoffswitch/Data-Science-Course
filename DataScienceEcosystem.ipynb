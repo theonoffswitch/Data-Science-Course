{
 "cells": [
  {
   "attachments": {},
   "cell_type": "markdown",
   "id": "314d5d18-66bc-4e06-8bd7-a8aea1b63144",
   "metadata": {},
   "source": [
    "# Data Science Tools and Ecosystem"
   ]
  },
  {
   "cell_type": "markdown",
   "id": "8d399b43-f3d6-4b1b-90c2-767704847d98",
   "metadata": {},
   "source": [
    "In this notebook, Data Science Tools are explored, tested, and Ecosystem are summarized."
   ]
  },
  {
   "cell_type": "markdown",
   "id": "06a050f2-b0bd-4c94-9931-f598983f37c1",
   "metadata": {},
   "source": [
    "## Author\n",
    "John Lembke"
   ]
  },
  {
   "cell_type": "markdown",
   "id": "843ab385-b84a-49e0-b8ef-7825e6cc5cef",
   "metadata": {},
   "source": [
    "# Objectives\n",
    "* tables\n",
    "* unordered lists\n",
    "* data science tools\n",
    "* arithmetic"
   ]
  },
  {
   "cell_type": "markdown",
   "id": "1d7b1c2d-4ab9-4828-bba3-95adb42cbba5",
   "metadata": {},
   "source": [
    "Some popular languages that Data Scientists use are:\n",
    "* Python\n",
    "* R\n",
    "* Java\n",
    "* Scala\n",
    "* C++"
   ]
  },
  {
   "cell_type": "markdown",
   "id": "f8b303ff-247f-438e-bdeb-4b515f79311e",
   "metadata": {},
   "source": [
    "| Data Science Tools |\n",
    "--------\n",
    "|R studio|\n",
    "| Anaconda |\n",
    "| Apache Hadoop |"
   ]
  },
  {
   "cell_type": "markdown",
   "id": "3c23a11d-84e1-4379-922d-0286baee47c9",
   "metadata": {},
   "source": [
    "### Below are examples of evaluating arithmetic expressions in a Python notebook"
   ]
  },
  {
   "cell_type": "code",
   "execution_count": 60,
   "id": "3926a099-a50f-4331-b0b9-63c7e083a981",
   "metadata": {},
   "outputs": [
    {
     "data": {
      "text/plain": [
       "17"
      ]
     },
     "execution_count": 60,
     "metadata": {},
     "output_type": "execute_result"
    }
   ],
   "source": [
    "# This is a simple arithmetic expression to multiply then add integers\n",
    "\n",
    "(3*4)+5"
   ]
  },
  {
   "cell_type": "code",
   "execution_count": 84,
   "id": "b23c596b-2ffa-446d-a77c-fa69335a577a",
   "metadata": {},
   "outputs": [
    {
     "name": "stdout",
     "output_type": "stream",
     "text": [
      "minutes\n"
     ]
    }
   ],
   "source": [
    "# This will convert 200 minutes to hours by dividing by 60\n",
    "200/60 \n",
    "print(\"minutes\")"
   ]
  },
  {
   "cell_type": "code",
   "execution_count": null,
   "id": "ffaa01b7-9dd3-4f51-b81f-91b32de81c70",
   "metadata": {},
   "outputs": [],
   "source": []
  }
 ],
 "metadata": {
  "kernelspec": {
   "display_name": "Python 3 (ipykernel)",
   "language": "python",
   "name": "python3"
  },
  "language_info": {
   "codemirror_mode": {
    "name": "ipython",
    "version": 3
   },
   "file_extension": ".py",
   "mimetype": "text/x-python",
   "name": "python",
   "nbconvert_exporter": "python",
   "pygments_lexer": "ipython3",
   "version": "3.12.4"
  }
 },
 "nbformat": 4,
 "nbformat_minor": 5
}
